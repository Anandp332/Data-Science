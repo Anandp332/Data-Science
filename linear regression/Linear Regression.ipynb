{
 "cells": [
  {
   "cell_type": "code",
   "execution_count": 37,
   "metadata": {},
   "outputs": [],
   "source": [
    "import numpy as np\n",
    "data=np.loadtxt(\"data.csv\",delimiter=\",\")\n",
    "#print(data)\n",
    "#data.shape\n",
    "x=data[:,0].reshape(-1,1)\n",
    "#print(x)\n",
    "y=data[:,1]\n",
    "#print(y)\n",
    "#y.shape\n",
    "from sklearn import model_selection\n",
    "x_train,x_test,y_train,y_test=model_selection.train_test_split(x,y)\n",
    "#print(x_train)\n",
    "#print(x_test)\n",
    "#print(y_train)\n",
    "#print(y_test)\n"
   ]
  },
  {
   "cell_type": "code",
   "execution_count": 39,
   "metadata": {},
   "outputs": [
    {
     "data": {
      "text/plain": [
       "LinearRegression(copy_X=True, fit_intercept=True, n_jobs=None,\n",
       "         normalize=False)"
      ]
     },
     "execution_count": 39,
     "metadata": {},
     "output_type": "execute_result"
    }
   ],
   "source": [
    "from sklearn.linear_model import LinearRegression\n",
    "alg1=LinearRegression()\n",
    "alg1.fit(x_train,y_train)"
   ]
  },
  {
   "cell_type": "code",
   "execution_count": 40,
   "metadata": {},
   "outputs": [],
   "source": [
    "import matplotlib.pyplot as plt\n",
    "m=alg1.coef_[0]\n",
    "c=alg1.intercept_"
   ]
  },
  {
   "cell_type": "code",
   "execution_count": 36,
   "metadata": {},
   "outputs": [
    {
     "data": {
      "image/png": "[encoded data removed]",
      "text/plain": [
       "<Figure size 432x288 with 1 Axes>"
      ]
     },
     "metadata": {
      "needs_background": "light"
     },
     "output_type": "display_data"
    }
   ],
   "source": [
    "x_line=np.arange(0,100,0.1)\n",
    "y_line=m*x_line+c\n",
    "plt.plot(x_line,y_line)\n",
    "plt.show()"
   ]
  },
  {
   "cell_type": "code",
   "execution_count": 44,
   "metadata": {},
   "outputs": [
    {
     "data": {
      "image/png": "[encoded data removed]",
      "text/plain": [
       "<Figure size 432x288 with 1 Axes>"
      ]
     },
     "metadata": {
      "needs_background": "light"
     },
     "output_type": "display_data"
    }
   ],
   "source": [
    "x_line=np.arange(30,70,0.1)\n",
    "y_line=m*x_line+c\n",
    "plt.plot(x_line,y_line,\"r\")\n",
    "train_1d=x_train.reshape(75)\n",
    "plt.scatter(x_train,y_train)\n",
    "plt.show()"
   ]
  },
  {
   "cell_type": "markdown",
   "metadata": {},
   "source": [
    "# score=1-u/v where u=E(yt-yp)^2 and v=E(yt-ymean)^2"
   ]
  },
  {
   "cell_type": "code",
   "execution_count": 45,
   "metadata": {},
   "outputs": [
    {
     "name": "stdout",
     "output_type": "stream",
     "text": [
      "0.5940445206328999 0.597527406883955\n"
     ]
    }
   ],
   "source": [
    "score_test=alg1.score(x_test,y_test)\n",
    "score_train=alg1.score(x_train,y_train)\n",
    "print(score_test,score_train)"
   ]
  },
  {
   "cell_type": "markdown",
   "metadata": {},
   "source": [
    "# cost funtion and error "
   ]
  },
  {
   "cell_type": "code",
   "execution_count": 49,
   "metadata": {},
   "outputs": [
    {
     "name": "stdout",
     "output_type": "stream",
     "text": [
      "[[  9.22495326   2.80418436  32.84863244 ...  26.79309195  21.26004444\n",
      "   42.89921828]\n",
      " [ 11.19766507   4.77689617  34.82134425 ...  28.76580376  23.23275625\n",
      "   44.87193009]\n",
      " [ -8.31030322 -14.73107212  15.31337596 ...   9.25783546   3.72478796\n",
      "   25.3639618 ]\n",
      " ...\n",
      " [ -2.02459537  -8.44536427  21.59908381 ...  15.54354331  10.01049581\n",
      "   31.64966965]\n",
      " [  0.11114218  -6.30962672  23.73482136 ...  17.67928087  12.14623336\n",
      "   33.7854072 ]\n",
      " [ -9.3111263  -15.73189519  14.31255289 ...   8.25701239   2.72396489\n",
      "   24.36313873]]\n"
     ]
    }
   ],
   "source": [
    "c_new=y_train.mean()-m*(x_train.mean())\n",
    "#print(c_new)\n",
    "m_new=((x_train*y_train).mean()-c_new*(x_train.mean()))/(x_train*x_train).mean()\n",
    "#print(m_new)\n",
    "error = y_train-(m_new*x_train)+c_new\n",
    "print(error)"
   ]
  },
  {
   "cell_type": "code",
   "execution_count": 60,
   "metadata": {},
   "outputs": [
    {
     "name": "stdout",
     "output_type": "stream",
     "text": [
      "-2396.8692725392857 23.776709092127113\n",
      "[6.07766125e+09 1.64223249e+10 2.17758907e+10 1.29705278e+10\n",
      " 2.05852041e+10 1.74955130e+10 1.56871291e+10 8.88850571e+09\n",
      " 1.33172995e+10 1.58887519e+10 1.18688165e+10 1.69989494e+10\n",
      " 1.12235461e+10 1.94662182e+10 1.85158381e+10 1.37887164e+10\n",
      " 1.14952785e+10 2.09224556e+10 1.19715436e+10 8.67123963e+09\n",
      " 2.52034653e+10 2.46289371e+10 1.29703122e+10 9.94538452e+09\n",
      " 1.54667260e+10 2.02785122e+10 1.89018002e+10 2.32859024e+10\n",
      " 1.25724177e+10 1.47100885e+10 1.56903750e+10 7.27892710e+09\n",
      " 1.03663109e+10 1.94695544e+10 1.90242723e+10 1.18821721e+10\n",
      " 2.20399854e+10 6.30373827e+09 7.64195094e+09 8.17002786e+09\n",
      " 1.14212885e+10 1.07974143e+10 1.44301278e+10 1.10748945e+10\n",
      " 2.28420139e+10 6.14229178e+09 9.28383639e+09 1.65184773e+10\n",
      " 6.60068479e+09 2.40907355e+10 8.36715932e+09 1.13967676e+10\n",
      " 9.48697916e+09 1.00176207e+10 1.50185000e+10 1.74530289e+10\n",
      " 9.85649474e+09 2.24705848e+10 1.39343400e+10 9.72213723e+09\n",
      " 9.76012990e+09 1.44922687e+10 1.57889688e+10 1.44603247e+10\n",
      " 6.51824331e+09 9.00292737e+09 1.81296743e+10 1.89361415e+10\n",
      " 2.08951236e+10 7.32602905e+09 5.74363244e+09 1.65651466e+10\n",
      " 1.25411382e+10 1.06926765e+10 2.84726412e+10 1.13964118e+10\n",
      " 1.90291299e+10 7.84917577e+09 1.79191354e+10 8.73068093e+09\n",
      " 1.86291809e+10 1.86088449e+10 6.78506596e+09 2.00607342e+10\n",
      " 1.92192879e+10 1.69547855e+10 1.50176075e+10 1.45478992e+10\n",
      " 1.12502572e+10 8.31367022e+09 6.24810753e+09 1.65897713e+10\n",
      " 2.72121665e+10 1.23040192e+10 2.68547774e+10 1.44050648e+10\n",
      " 1.39516656e+10 1.44113616e+10 1.33400003e+10 3.63692506e+09]\n"
     ]
    }
   ],
   "source": [
    "def fit(x,y):\n",
    "    c=y.mean()-x.mean()\n",
    "    m=((x*y).mean()-x.mean()*y.mean())/(x*x).mean()-x.mean()*x.mean()\n",
    "    return m,c\n",
    "def predicted(x,m,c):\n",
    "    y=m*x+c\n",
    "    return y\n",
    "def cod(pred,y_test):\n",
    "    pass\n",
    "def cost_fn(x,y,m,c):\n",
    "    cost=(y-m*x+c)**2\n",
    "    return cost\n",
    "\n",
    "import numpy as np\n",
    "data=np.loadtxt(\"data.csv\",delimiter=\",\")\n",
    "#print(data)\n",
    "#data.shape\n",
    "x=data[:,0]\n",
    "#print(x)\n",
    "y=data[:,1]\n",
    "#print(y)\n",
    "#y.shape\n",
    "from sklearn import model_selection\n",
    "x_train,x_test,y_train,y_test=model_selection.train_test_split(x,y)\n",
    "m,c=fit(x,y)\n",
    "print(m,c)\n",
    "pred=predicted(x,m,c)\n",
    "error=cod(pred,y_test)\n",
    "cost=cost_fn(x,y,m,c)\n",
    "print(cost)"
   ]
  },
  {
   "cell_type": "code",
   "execution_count": null,
   "metadata": {},
   "outputs": [],
   "source": []
  }
 ],
 "metadata": {
  "kernelspec": {
   "display_name": "Python 3",
   "language": "python",
   "name": "python3"
  },
  "language_info": {
   "codemirror_mode": {
    "name": "ipython",
    "version": 3
   },
   "file_extension": ".py",
   "mimetype": "text/x-python",
   "name": "python",
   "nbconvert_exporter": "python",
   "pygments_lexer": "ipython3",
   "version": "3.7.1"
  }
 },
 "nbformat": 4,
 "nbformat_minor": 2
}
