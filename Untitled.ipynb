{
 "cells": [
  {
   "cell_type": "code",
   "execution_count": 4,
   "metadata": {},
   "outputs": [
    {
     "name": "stdout",
     "output_type": "stream",
     "text": [
      "4\n",
      "2 2 3 1\n",
      "4\n"
     ]
    }
   ],
   "source": [
    "''' Read input from STDIN. Print your output to STDOUT '''\n",
    "    #Use input() to read input from STDIN and use print to write your output to STDOUT\n",
    "\n",
    "def classroom(a,n):\n",
    "    sorted(a)\n",
    "    for j in range(1,n+1):\n",
    "        for i in range(0,n):\n",
    "            if(j==a[i]):\n",
    "                break\n",
    "        else:\n",
    "            print(j)\n",
    "            \n",
    "\n",
    "\n",
    "\n",
    "\n",
    " # Write code here \n",
    "\n",
    "#main()\n",
    "n = int(input())\n",
    "arr = [int(i) for i in input().strip().split()]\n",
    "\n",
    "classroom(arr,n)\n",
    "\n",
    "\n"
   ]
  },
  {
   "cell_type": "code",
   "execution_count": null,
   "metadata": {},
   "outputs": [],
   "source": []
  }
 ],
 "metadata": {
  "kernelspec": {
   "display_name": "Python 3",
   "language": "python",
   "name": "python3"
  },
  "language_info": {
   "codemirror_mode": {
    "name": "ipython",
    "version": 3
   },
   "file_extension": ".py",
   "mimetype": "text/x-python",
   "name": "python",
   "nbconvert_exporter": "python",
   "pygments_lexer": "ipython3",
   "version": "3.7.3"
  }
 },
 "nbformat": 4,
 "nbformat_minor": 2
}
