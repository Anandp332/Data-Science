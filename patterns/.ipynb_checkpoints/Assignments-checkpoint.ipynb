{
 "cells": [
  {
   "cell_type": "markdown",
   "metadata": {},
   "source": [
    "Code : Square Pattern\n",
    "Send Feedback\n",
    "Print the following pattern for the given N number of rows.\n",
    "Pattern for N = 4\n",
    "4444\n",
    "4444\n",
    "4444\n",
    "4444\n",
    "Input format :\n",
    "Integer N (Total no. of rows)\n",
    "Output format :\n",
    "Pattern in N lines\n",
    "Sample Input :\n",
    "7\n",
    "Sample Output :\n",
    "7777777\n",
    "7777777\n",
    "7777777\n",
    "7777777\n",
    "7777777\n",
    "7777777\n",
    "7777777"
   ]
  },
  {
   "cell_type": "code",
   "execution_count": 1,
   "metadata": {},
   "outputs": [
    {
     "name": "stdout",
     "output_type": "stream",
     "text": [
      "7\n",
      "7777777\n",
      "7777777\n",
      "7777777\n",
      "7777777\n",
      "7777777\n",
      "7777777\n",
      "7777777\n"
     ]
    }
   ],
   "source": [
    "n=int(input())\n",
    "i=1\n",
    "while i<=n:\n",
    "  j=1\n",
    "  while j<=n:\n",
    "    print(n,end='')\n",
    "    j+=1\n",
    "  print()\n",
    "  i+=1"
   ]
  },
  {
   "cell_type": "markdown",
   "metadata": {},
   "source": [
    "Code : Triangular Star Pattern\n",
    "Send Feedback\n",
    "Print the following pattern for the given N number of rows.\n",
    "Pattern for N = 4\n",
    "*\n",
    "**\n",
    "***\n",
    "****\n",
    "Input format :\n",
    "Integer N (Total no. of rows)\n",
    "Output format :\n",
    "Pattern in N lines\n",
    "Sample Input :\n",
    "5\n",
    "Sample Output :\n",
    "*\n",
    "**\n",
    "***\n",
    "****\n",
    "*****"
   ]
  },
  {
   "cell_type": "code",
   "execution_count": 2,
   "metadata": {},
   "outputs": [
    {
     "name": "stdout",
     "output_type": "stream",
     "text": [
      "3\n",
      "*\n",
      "**\n",
      "***\n"
     ]
    }
   ],
   "source": [
    "n=int(input())\n",
    "i=1\n",
    "while i<=n:\n",
    "  j=1\n",
    "  while j<=i:\n",
    "    print(\"*\",end=\"\")\n",
    "    j+=1\n",
    "  print()\n",
    "  i+=1"
   ]
  },
  {
   "cell_type": "markdown",
   "metadata": {},
   "source": [
    "Code : Triangle Number Pattern\n",
    "Send Feedback\n",
    "Print the following pattern for the given N number of rows.\n",
    "Pattern for N = 4\n",
    "1\n",
    "22\n",
    "333\n",
    "4444\n",
    "Input format :\n",
    "Integer N (Total no. of rows)\n",
    "Output format :\n",
    "Pattern in N lines\n",
    "Sample Input :\n",
    "5\n",
    "Sample Output :\n",
    "1\n",
    "22\n",
    "333\n",
    "4444\n",
    "55555"
   ]
  },
  {
   "cell_type": "code",
   "execution_count": 5,
   "metadata": {},
   "outputs": [
    {
     "name": "stdout",
     "output_type": "stream",
     "text": [
      "4\n",
      "1\n",
      "22\n",
      "333\n",
      "4444\n"
     ]
    }
   ],
   "source": [
    "n=int(input())\n",
    "i=1\n",
    "while i<=n:\n",
    "    j=1\n",
    "    t=i\n",
    "    while j<=i:\n",
    "        print(t,end=\"\")\n",
    "        j+=1\n",
    "    print()\n",
    "    i+=1"
   ]
  },
  {
   "cell_type": "markdown",
   "metadata": {},
   "source": [
    "Code : Reverse Number Pattern\n",
    "Send Feedback\n",
    "Print the following pattern for the given N number of rows.\n",
    "Pattern for N = 4\n",
    "1\n",
    "21\n",
    "321\n",
    "4321\n",
    "Input format :\n",
    "Integer N (Total no. of rows)\n",
    "Output format :\n",
    "Pattern in N lines\n",
    "Sample Input :\n",
    "5\n",
    "Sample Output :\n",
    "1\n",
    "21\n",
    "321\n",
    "4321\n",
    "54321"
   ]
  },
  {
   "cell_type": "code",
   "execution_count": 7,
   "metadata": {},
   "outputs": [
    {
     "name": "stdout",
     "output_type": "stream",
     "text": [
      "7\n",
      "1\n",
      "21\n",
      "321\n",
      "4321\n",
      "54321\n",
      "654321\n",
      "7654321\n"
     ]
    }
   ],
   "source": [
    "n=int(input())\n",
    "i=1\n",
    "while i<=n:\n",
    "    j=1\n",
    "    t=i\n",
    "    while j<=i:\n",
    "        print(t,end=\"\")\n",
    "        j+=1\n",
    "        t-=1\n",
    "    print()\n",
    "    i+=1"
   ]
  },
  {
   "cell_type": "markdown",
   "metadata": {},
   "source": [
    "Code : Alpha Pattern\n",
    "Send Feedback\n",
    "Print the following pattern for the given N number of rows.\n",
    "Pattern for N = 3\n",
    " A\n",
    " BB\n",
    " CCC\n",
    "Input format :\n",
    "Integer N (Total no. of rows)\n",
    "Output format :\n",
    "Pattern in N lines\n",
    "Sample Input :\n",
    "7\n",
    "Sample Output :\n",
    "A\n",
    "BB\n",
    "CCC\n",
    "DDDD\n",
    "EEEEE\n",
    "FFFFFF\n",
    "GGGGGGG"
   ]
  },
  {
   "cell_type": "code",
   "execution_count": 8,
   "metadata": {},
   "outputs": [
    {
     "name": "stdout",
     "output_type": "stream",
     "text": [
      "4\n",
      "A\n",
      "BB\n",
      "CCC\n",
      "DDDD\n"
     ]
    }
   ],
   "source": [
    "n = int(input())\n",
    "i = 1\n",
    "while i <= n:\n",
    "    j = 1\n",
    "    charP = chr(ord('A') + i - 1)\n",
    "    while j <= i:\n",
    "        # print jth column\n",
    "        \n",
    "        print(charP, end='')\n",
    "        j = j + 1\n",
    "    print()\n",
    "    i = i + 1"
   ]
  },
  {
   "cell_type": "markdown",
   "metadata": {},
   "source": [
    "Code : Character Pattern\n",
    "Send Feedback\n",
    "Print the following pattern for the given N number of rows.\n",
    "Pattern for N = 4\n",
    "A\n",
    "BC\n",
    "CDE\n",
    "DEFG\n",
    "Input format :\n",
    "Integer N (Total no. of rows)\n",
    "Output format :\n",
    "Pattern in N lines\n",
    "Sample Input :\n",
    "5\n",
    "Sample Output :\n",
    "A\n",
    "BC\n",
    "CDE\n",
    "DEFG\n",
    "EFGHI"
   ]
  },
  {
   "cell_type": "code",
   "execution_count": 9,
   "metadata": {},
   "outputs": [
    {
     "name": "stdout",
     "output_type": "stream",
     "text": [
      "4\n",
      "A\n",
      "BC\n",
      "CDE\n",
      "DEFG\n"
     ]
    }
   ],
   "source": [
    "n = int(input())\n",
    "i = 1\n",
    "while i <= n:\n",
    "    j = 1\n",
    "    start_char = chr(ord('A') + i - 1)\n",
    "    while j <= i:\n",
    "        # print jth column\n",
    "        charP = chr(ord(start_char) + j - 1)\n",
    "        print(charP, end='')\n",
    "        j = j + 1\n",
    "    print()\n",
    "    i = i + 1"
   ]
  },
  {
   "cell_type": "markdown",
   "metadata": {},
   "source": [
    "Code : Interesting Alphabets\n",
    "Send Feedback\n",
    "Print the following pattern for the given number of rows.\n",
    "Pattern for N = 5\n",
    "E\n",
    "DE\n",
    "CDE\n",
    "BCDE\n",
    "ABCDE\n",
    "Input format : N (Total no. of rows)\n",
    "\n",
    "Output format : Pattern in N lines\n",
    "\n",
    "Sample Input :\n",
    "8\n",
    "Sample Output :\n",
    "H\n",
    "GH\n",
    "FGH\n",
    "EFGH\n",
    "DEFGH\n",
    "CDEFGH\n",
    "BCDEFGH\n",
    "ABCDEFGH"
   ]
  },
  {
   "cell_type": "code",
   "execution_count": 11,
   "metadata": {},
   "outputs": [
    {
     "name": "stdout",
     "output_type": "stream",
     "text": [
      "4\n",
      "D\n",
      "CD\n",
      "BCD\n",
      "ABCD\n"
     ]
    }
   ],
   "source": [
    "n=int(input())\n",
    "i=n\n",
    "while i>=1:\n",
    "    j=1\n",
    "    start_char=chr(ord('A')+i-1)\n",
    "    while j<=n-i+1:\n",
    "        charP=chr(ord(start_char)+j-1)\n",
    "        print(charP,end='')\n",
    "        j+=1\n",
    "    print()\n",
    "    i-=1"
   ]
  },
  {
   "cell_type": "markdown",
   "metadata": {},
   "source": [
    "Code : Inverted Number Pattern\n",
    "Send Feedback\n",
    "Print the following pattern for the given N number of rows.\n",
    "Pattern for N = 4\n",
    "4444\n",
    "333\n",
    "22\n",
    "1\n",
    "Input format :\n",
    "Integer N (Total no. of rows)\n",
    "Output format :\n",
    "Pattern in N lines\n",
    "Sample Input :\n",
    "5\n",
    "Sample Output :\n",
    "55555 \n",
    "4444\n",
    "333\n",
    "22\n",
    "1"
   ]
  },
  {
   "cell_type": "code",
   "execution_count": 13,
   "metadata": {},
   "outputs": [
    {
     "name": "stdout",
     "output_type": "stream",
     "text": [
      "4\n",
      "4444\n",
      "333\n",
      "22\n",
      "1\n"
     ]
    }
   ],
   "source": [
    "n=int(input())\n",
    "i=1\n",
    "while i<=n:\n",
    "    j=1\n",
    "    r=n-i+1\n",
    "    while j<=r:\n",
    "        print(r,end=\"\")\n",
    "        j+=1\n",
    "    print()\n",
    "    i+=1"
   ]
  },
  {
   "cell_type": "markdown",
   "metadata": {},
   "source": [
    "Code : Mirror Number Pattern\n",
    "Send Feedback\n",
    "Print the following pattern for the given N number of rows.\n",
    "Pattern for N = 4\n",
    "      1\n",
    "    12\n",
    "  123\n",
    "1234\n",
    "Input format :\n",
    "Integer N (Total no. of rows)\n",
    "Output format :\n",
    "Pattern in N lines\n",
    "Sample Input :\n",
    "3\n",
    "Sample Output :\n",
    "      1 \n",
    "    12\n",
    "  123"
   ]
  },
  {
   "cell_type": "code",
   "execution_count": 14,
   "metadata": {},
   "outputs": [
    {
     "name": "stdout",
     "output_type": "stream",
     "text": [
      "5\n",
      "    1\n",
      "   12\n",
      "  123\n",
      " 1234\n",
      "12345\n"
     ]
    }
   ],
   "source": [
    "n=int(input())\n",
    "i=1\n",
    "while i<=n:\n",
    "  \n",
    "  k=1\n",
    "  while k<n-i+1:\n",
    "    print(\" \",end=\"\")\n",
    "    k+=1\n",
    "  j=k\n",
    "  p=1\n",
    "  while j<=n:\n",
    "    print(p,end='')\n",
    "    j+=1\n",
    "    p+=1\n",
    "  \n",
    "  print()\n",
    "  i+=1"
   ]
  },
  {
   "cell_type": "markdown",
   "metadata": {},
   "source": [
    "Code : Star Pattern\n",
    "Send Feedback\n",
    "Print the following pattern\n",
    "Pattern for N = 4\n",
    "    *\n",
    "   *** \n",
    "  *****\n",
    " *******\n",
    "Input Format :\n",
    "N (Total no. of rows)\n",
    "Output Format :\n",
    "Pattern in N lines\n",
    "Sample Input 1 :\n",
    "3\n",
    "Sample Output 1 :\n",
    "   *\n",
    "  *** \n",
    " *****"
   ]
  },
  {
   "cell_type": "code",
   "execution_count": 15,
   "metadata": {},
   "outputs": [
    {
     "name": "stdout",
     "output_type": "stream",
     "text": [
      "5\n",
      "    *\n",
      "   ***\n",
      "  *****\n",
      " *******\n",
      "*********\n"
     ]
    }
   ],
   "source": [
    "n=int(input())\n",
    "i=1\n",
    "while i<=n:\n",
    "  j=1\n",
    "  while j<=n-i:\n",
    "    print(\" \",end=\"\")\n",
    "    j+=1\n",
    "  k=1\n",
    "  while k<=(2*i)-1:\n",
    "    print(\"*\",end=\"\")\n",
    "    k+=1\n",
    "  print()\n",
    "  i+=1\n"
   ]
  },
  {
   "cell_type": "markdown",
   "metadata": {},
   "source": [
    "Code : Triangle of Numbers\n",
    "Send Feedback\n",
    "Print the following pattern for the given number of rows.\n",
    "Pattern for N = 3\n",
    "       1\n",
    "     232\n",
    "   34543\n",
    "Input format :\n",
    "Integer N (Total no. of rows)\n",
    "Output format :\n",
    "Pattern in N lines\n",
    "Sample Input :\n",
    "5\n",
    "Sample Output :\n",
    "           1\n",
    "         232\n",
    "       34543\n",
    "     4567654\n",
    "   567898765"
   ]
  },
  {
   "cell_type": "code",
   "execution_count": 18,
   "metadata": {},
   "outputs": [
    {
     "name": "stdout",
     "output_type": "stream",
     "text": [
      "6\n",
      "     1\n",
      "    232\n",
      "   34543\n",
      "  4567654\n",
      " 567898765\n",
      "67891011109876\n"
     ]
    }
   ],
   "source": [
    "n=int(input())\n",
    "i=1\n",
    "while i<=n:\n",
    "  k=1\n",
    "  while k<=n-i:\n",
    "    print(\" \",end=\"\")\n",
    "    k+=1\n",
    "  t=i\n",
    "  j=1\n",
    "  while j<=(2*i)-1:\n",
    "    if(j+k>n):\n",
    "      \n",
    "      print(t,end=\"\")\n",
    "      t-=1\n",
    "    else:\n",
    "      print(t,end=\"\")\n",
    "      t+=1\n",
    "    j+=1\n",
    "  print()\n",
    "  \n",
    "  i+=1"
   ]
  },
  {
   "cell_type": "markdown",
   "metadata": {},
   "source": [
    "Code : Diamond of stars\n",
    "Send Feedback\n",
    "Print the following pattern for the given number of rows.\n",
    "Assume, N is always odd.\n",
    "Pattern for N = 7\n",
    "   *\n",
    "  ***\n",
    " *****\n",
    "*******\n",
    " *****\n",
    "  ***\n",
    "   *\n",
    "Input format :\n",
    "N (Total no. of rows and can only be odd)\n",
    "Output format :\n",
    "Pattern in N lines\n",
    "Sample Input :\n",
    "5\n",
    "Sample Output :\n",
    "  *\n",
    " ***\n",
    "*****\n",
    " ***\n",
    "  *"
   ]
  },
  {
   "cell_type": "code",
   "execution_count": 19,
   "metadata": {},
   "outputs": [
    {
     "name": "stdout",
     "output_type": "stream",
     "text": [
      "6\n",
      "   *\n",
      "  ***\n",
      " *****\n",
      "*******\n",
      " *****\n",
      "  ***\n"
     ]
    }
   ],
   "source": [
    "n=int(input())\n",
    "i=1\n",
    "mm=1\n",
    "while i<=n:\n",
    "  if(i<=(n//2)+1):\n",
    "    j=1\n",
    "    while j<=((n//2)+1-i):\n",
    "      print(\" \",end='')\n",
    "      j+=1\n",
    "    k=1\n",
    "    while k<=((2*i)-1):\n",
    "       print(\"*\",end=\"\")\n",
    "       k+=1\n",
    "       mm=k-1\n",
    "  else:\n",
    "    ll=1\n",
    "    while(ll <=(i-(n//2)-1)):\n",
    "      print(\" \",end=\"\")\n",
    "      ll+=1\n",
    "    mm-=2\n",
    "    pp=mm\n",
    "    while(pp>=1):\n",
    "      print(\"*\",end=\"\")\n",
    "      pp-=1\n",
    "  print()\n",
    "  i+=1"
   ]
  },
  {
   "cell_type": "code",
   "execution_count": null,
   "metadata": {},
   "outputs": [],
   "source": []
  }
 ],
 "metadata": {
  "kernelspec": {
   "display_name": "Python 3",
   "language": "python",
   "name": "python3"
  },
  "language_info": {
   "codemirror_mode": {
    "name": "ipython",
    "version": 3
   },
   "file_extension": ".py",
   "mimetype": "text/x-python",
   "name": "python",
   "nbconvert_exporter": "python",
   "pygments_lexer": "ipython3",
   "version": "3.7.3"
  }
 },
 "nbformat": 4,
 "nbformat_minor": 2
}
