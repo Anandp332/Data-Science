{
 "cells": [
  {
   "cell_type": "markdown",
   "metadata": {},
   "source": [
    "Check Palindrome\n",
    "Send Feedback\n",
    "Given a String s, check it its palindrome. Return true if string is palindrome, else return false.\n",
    "Palindrome strings are those, where string s and its reverse is exactly same.\n",
    "Input Format :\n",
    " String S\n",
    "Output Format :\n",
    "\"true\" if S is palindrome, else \"false\"\n",
    "Sample Input 1 :\n",
    "abcdcba\n",
    "Sample Output 1 :\n",
    "true "
   ]
  },
  {
   "cell_type": "code",
   "execution_count": 1,
   "metadata": {},
   "outputs": [
    {
     "name": "stdout",
     "output_type": "stream",
     "text": [
      "abcddcba\n",
      "true\n"
     ]
    }
   ],
   "source": [
    "n=input()\n",
    "n1=n[:((len(n)//2))]\n",
    "n2=n[-1:(len(n)//2)-1:-1]\n",
    "if(n1==n2):\n",
    "  print(\"true\")\n",
    "else:\n",
    "  print(\"false\")"
   ]
  },
  {
   "cell_type": "markdown",
   "metadata": {},
   "source": [
    "Print all substrings\n",
    "Send Feedback\n",
    "Given a String S of length n, print all its substrings.\n",
    "Substring of a String S is a part of S (of any length from 1 to n), which contains all consecutive characters from S.\n",
    "Input Format :\n",
    "String S\n",
    "Output Format :\n",
    " All Substrings of S, one in each line.\n",
    "Note : The order in which you print substrings doesn't matter.\n",
    "Sample Input 1 :\n",
    "xyz\n",
    "Sample Output 1 :\n",
    "x\n",
    "xy\n",
    "xyz\n",
    "y\n",
    "yz\n",
    "z"
   ]
  },
  {
   "cell_type": "code",
   "execution_count": 2,
   "metadata": {},
   "outputs": [
    {
     "name": "stdout",
     "output_type": "stream",
     "text": [
      "xyz\n",
      "x\n",
      "xy\n",
      "xyz\n",
      "y\n",
      "yz\n",
      "z\n"
     ]
    }
   ],
   "source": [
    "st=input()\n",
    "i=0\n",
    "while i<len(st):\n",
    "  j=i\n",
    "  while j<len(st):\n",
    "    print(st[i:j+1])\n",
    "    j+=1\n",
    "  i+=1\n",
    "  "
   ]
  },
  {
   "cell_type": "markdown",
   "metadata": {},
   "source": [
    "Swap Alternate\n",
    "Send Feedback\n",
    "Given an array of length N, swap every pair of alternate elements in the array.\n",
    "You don't need to print or return anything, just change in the input array itself.\n",
    "Input Format :\n",
    "Line 1 : An Integer N i.e. size of array\n",
    "Line 2 : N integers which are elements of the array, separated by spaces\n",
    "Output Format :\n",
    "Elements after swapping, separated by space.\n",
    "Sample Input 1:\n",
    "6\n",
    "9 3 6 12 4 32\n",
    "Sample Output 2 :\n",
    "3 9 12 6 32 4\n",
    "Sample Input 1:\n",
    "9\n",
    "9 3 6 12 4 32 5 11 19\n",
    "Sample Output 2 :\n",
    "3 9 12 6 32 4 11 5 19"
   ]
  },
  {
   "cell_type": "code",
   "execution_count": 4,
   "metadata": {},
   "outputs": [
    {
     "name": "stdout",
     "output_type": "stream",
     "text": [
      "6\n",
      "9 3 12 6 32 4\n",
      "3 9 6 12 4 32 "
     ]
    }
   ],
   "source": [
    "n=int(input())\n",
    "l=[int(s) for s in input().split()]\n",
    "l=l[0:n]\n",
    "for i in range(1,n,2):\n",
    "  p=l[i-1]\n",
    "  l[i-1]=l[i]\n",
    "  l[i]=p\n",
    "for i in l:\n",
    "  print(i,end=' ')"
   ]
  },
  {
   "cell_type": "markdown",
   "metadata": {},
   "source": [
    "Array equilibrium index\n",
    "Send Feedback\n",
    "Find and return the equilibrium index of an array. Equilibrium index of an array is an index i such that the sum of elements at indices less than i is equal to the sum of elements at indices greater than i.\n",
    "Element at index i is not included in either part.\n",
    "If more than one equilibrium index is present, you need to return the first one. And return -1 if no equilibrium index is present.\n",
    "Input format :\n",
    "Line 1 : Size of input array\n",
    "Line 2 : Array elements (separated by space)\n",
    "Constraints:\n",
    "Time Limit: 1 second\n",
    "Size of input array lies in the range: [1, 1000000]\n",
    "Sample Input :\n",
    "7\n",
    "-7 1 5 2 -4 3 0\n",
    "Sample Output :\n",
    "3 "
   ]
  },
  {
   "cell_type": "code",
   "execution_count": 5,
   "metadata": {},
   "outputs": [
    {
     "name": "stdout",
     "output_type": "stream",
     "text": [
      "7\n",
      " -7 1 5 2 -4 3 0 \n",
      "3\n"
     ]
    }
   ],
   "source": [
    "def equilibriumIndex(arr):\n",
    "    sum1=0\n",
    "    sum2=0\n",
    "    for i in arr:\n",
    "        sum2+=i\n",
    "    sum2-=arr[0]\n",
    "    for i in range(1,len(arr),1):\n",
    "        sum1+=arr[i-1]\n",
    "        sum2-=arr[i]\n",
    "        if (sum1 == sum2):\n",
    "            return i\n",
    "        \n",
    "    else:\n",
    "        return \"-1\"\n",
    "        \n",
    "    # Please add your code here\n",
    "   \n",
    "# Main\n",
    "n = int(input())\n",
    "arr = [int(i) for i in input().strip().split()]\n",
    "print(equilibriumIndex(arr))"
   ]
  },
  {
   "cell_type": "markdown",
   "metadata": {},
   "source": [
    "Row wise sum\n",
    "Send Feedback\n",
    "Given a 2D integer array of size M*N, find and print the sum of ith row elements separated by space.\n",
    "Input Format :\n",
    "Line 1 : Two integers M and N (separated by space) \n",
    "Line 2 : Matrix elements of each row (separated by space)\n",
    "Output Format :\n",
    "Sum of every ith row elements (separated by space)\n",
    "Constraints :\n",
    "1 <= M, N <= 10^3\n",
    "Sample Input :\n",
    "4 2 \n",
    "1 2 3 4 5 6 7 8\n",
    "Sample Output :\n",
    "3 7 11 15 "
   ]
  },
  {
   "cell_type": "code",
   "execution_count": 9,
   "metadata": {},
   "outputs": [
    {
     "name": "stdout",
     "output_type": "stream",
     "text": [
      "4 2\n",
      " 1 2 3 4 5 6 7 8\n",
      "3 7 11 15\n"
     ]
    }
   ],
   "source": [
    "def rowWiseSum(arr):\n",
    "    l=[]\n",
    "    # Please add your code here\n",
    "    for i in arr:\n",
    "        sum=0\n",
    "        for j in i:\n",
    "            sum+=j\n",
    "        l.append(sum)\n",
    "    return l\n",
    "\n",
    "#Main\n",
    "m, n=(int(i) for i in input().strip().split(' '))\n",
    "l=[int(i) for i in input().strip().split(' ')]\n",
    "arr = [ [ l[(j*n)+i] for i in range(n)] for j in range(m)]\n",
    "l=rowWiseSum(arr)\n",
    "print(*l)\n"
   ]
  },
  {
   "cell_type": "markdown",
   "metadata": {},
   "source": [
    "Wave Print\n",
    "Send Feedback\n",
    "Given a two dimensional n*m array, print the array in a sine wave order. i.e. print the first column top to bottom, next column bottom to top and so on.\n",
    "Note : Print the elements separated by space.\n",
    "Input format :\n",
    "n, m, array elements (separated by space)\n",
    "Sample Input :\n",
    "3 4 1  2  3  4 5  6  7  8 9 10 11 12\n",
    "Sample Output :\n",
    "1 5 9 10 6 2 3 7 11 12 8 4"
   ]
  },
  {
   "cell_type": "code",
   "execution_count": 10,
   "metadata": {},
   "outputs": [
    {
     "ename": "KeyboardInterrupt",
     "evalue": "",
     "output_type": "error",
     "traceback": [
      "\u001b[0;31m---------------------------------------------------------------------------\u001b[0m",
      "\u001b[0;31mKeyboardInterrupt\u001b[0m                         Traceback (most recent call last)",
      "\u001b[0;32m~/anaconda3/lib/python3.7/site-packages/ipykernel/kernelbase.py\u001b[0m in \u001b[0;36m_input_request\u001b[0;34m(self, prompt, ident, parent, password)\u001b[0m\n\u001b[1;32m    884\u001b[0m             \u001b[0;32mtry\u001b[0m\u001b[0;34m:\u001b[0m\u001b[0;34m\u001b[0m\u001b[0;34m\u001b[0m\u001b[0m\n\u001b[0;32m--> 885\u001b[0;31m                 \u001b[0mident\u001b[0m\u001b[0;34m,\u001b[0m \u001b[0mreply\u001b[0m \u001b[0;34m=\u001b[0m \u001b[0mself\u001b[0m\u001b[0;34m.\u001b[0m\u001b[0msession\u001b[0m\u001b[0;34m.\u001b[0m\u001b[0mrecv\u001b[0m\u001b[0;34m(\u001b[0m\u001b[0mself\u001b[0m\u001b[0;34m.\u001b[0m\u001b[0mstdin_socket\u001b[0m\u001b[0;34m,\u001b[0m \u001b[0;36m0\u001b[0m\u001b[0;34m)\u001b[0m\u001b[0;34m\u001b[0m\u001b[0;34m\u001b[0m\u001b[0m\n\u001b[0m\u001b[1;32m    886\u001b[0m             \u001b[0;32mexcept\u001b[0m \u001b[0mException\u001b[0m\u001b[0;34m:\u001b[0m\u001b[0;34m\u001b[0m\u001b[0;34m\u001b[0m\u001b[0m\n",
      "\u001b[0;32m~/anaconda3/lib/python3.7/site-packages/jupyter_client/session.py\u001b[0m in \u001b[0;36mrecv\u001b[0;34m(self, socket, mode, content, copy)\u001b[0m\n\u001b[1;32m    802\u001b[0m         \u001b[0;32mtry\u001b[0m\u001b[0;34m:\u001b[0m\u001b[0;34m\u001b[0m\u001b[0;34m\u001b[0m\u001b[0m\n\u001b[0;32m--> 803\u001b[0;31m             \u001b[0mmsg_list\u001b[0m \u001b[0;34m=\u001b[0m \u001b[0msocket\u001b[0m\u001b[0;34m.\u001b[0m\u001b[0mrecv_multipart\u001b[0m\u001b[0;34m(\u001b[0m\u001b[0mmode\u001b[0m\u001b[0;34m,\u001b[0m \u001b[0mcopy\u001b[0m\u001b[0;34m=\u001b[0m\u001b[0mcopy\u001b[0m\u001b[0;34m)\u001b[0m\u001b[0;34m\u001b[0m\u001b[0;34m\u001b[0m\u001b[0m\n\u001b[0m\u001b[1;32m    804\u001b[0m         \u001b[0;32mexcept\u001b[0m \u001b[0mzmq\u001b[0m\u001b[0;34m.\u001b[0m\u001b[0mZMQError\u001b[0m \u001b[0;32mas\u001b[0m \u001b[0me\u001b[0m\u001b[0;34m:\u001b[0m\u001b[0;34m\u001b[0m\u001b[0;34m\u001b[0m\u001b[0m\n",
      "\u001b[0;32m~/anaconda3/lib/python3.7/site-packages/zmq/sugar/socket.py\u001b[0m in \u001b[0;36mrecv_multipart\u001b[0;34m(self, flags, copy, track)\u001b[0m\n\u001b[1;32m    469\u001b[0m         \"\"\"\n\u001b[0;32m--> 470\u001b[0;31m         \u001b[0mparts\u001b[0m \u001b[0;34m=\u001b[0m \u001b[0;34m[\u001b[0m\u001b[0mself\u001b[0m\u001b[0;34m.\u001b[0m\u001b[0mrecv\u001b[0m\u001b[0;34m(\u001b[0m\u001b[0mflags\u001b[0m\u001b[0;34m,\u001b[0m \u001b[0mcopy\u001b[0m\u001b[0;34m=\u001b[0m\u001b[0mcopy\u001b[0m\u001b[0;34m,\u001b[0m \u001b[0mtrack\u001b[0m\u001b[0;34m=\u001b[0m\u001b[0mtrack\u001b[0m\u001b[0;34m)\u001b[0m\u001b[0;34m]\u001b[0m\u001b[0;34m\u001b[0m\u001b[0;34m\u001b[0m\u001b[0m\n\u001b[0m\u001b[1;32m    471\u001b[0m         \u001b[0;31m# have first part already, only loop while more to receive\u001b[0m\u001b[0;34m\u001b[0m\u001b[0;34m\u001b[0m\u001b[0;34m\u001b[0m\u001b[0m\n",
      "\u001b[0;32mzmq/backend/cython/socket.pyx\u001b[0m in \u001b[0;36mzmq.backend.cython.socket.Socket.recv\u001b[0;34m()\u001b[0m\n",
      "\u001b[0;32mzmq/backend/cython/socket.pyx\u001b[0m in \u001b[0;36mzmq.backend.cython.socket.Socket.recv\u001b[0;34m()\u001b[0m\n",
      "\u001b[0;32mzmq/backend/cython/socket.pyx\u001b[0m in \u001b[0;36mzmq.backend.cython.socket._recv_copy\u001b[0;34m()\u001b[0m\n",
      "\u001b[0;32m~/anaconda3/lib/python3.7/site-packages/zmq/backend/cython/checkrc.pxd\u001b[0m in \u001b[0;36mzmq.backend.cython.checkrc._check_rc\u001b[0;34m()\u001b[0m\n",
      "\u001b[0;31mKeyboardInterrupt\u001b[0m: ",
      "\nDuring handling of the above exception, another exception occurred:\n",
      "\u001b[0;31mKeyboardInterrupt\u001b[0m                         Traceback (most recent call last)",
      "\u001b[0;32m<ipython-input-10-8ddefb400939>\u001b[0m in \u001b[0;36m<module>\u001b[0;34m\u001b[0m\n\u001b[1;32m     13\u001b[0m \u001b[0;34m\u001b[0m\u001b[0m\n\u001b[1;32m     14\u001b[0m \u001b[0;31m#Main\u001b[0m\u001b[0;34m\u001b[0m\u001b[0;34m\u001b[0m\u001b[0;34m\u001b[0m\u001b[0m\n\u001b[0;32m---> 15\u001b[0;31m \u001b[0ml\u001b[0m\u001b[0;34m=\u001b[0m\u001b[0;34m[\u001b[0m\u001b[0mint\u001b[0m\u001b[0;34m(\u001b[0m\u001b[0mi\u001b[0m\u001b[0;34m)\u001b[0m \u001b[0;32mfor\u001b[0m \u001b[0mi\u001b[0m \u001b[0;32min\u001b[0m \u001b[0minput\u001b[0m\u001b[0;34m(\u001b[0m\u001b[0;34m)\u001b[0m\u001b[0;34m.\u001b[0m\u001b[0mstrip\u001b[0m\u001b[0;34m(\u001b[0m\u001b[0;34m)\u001b[0m\u001b[0;34m.\u001b[0m\u001b[0msplit\u001b[0m\u001b[0;34m(\u001b[0m\u001b[0;34m' '\u001b[0m\u001b[0;34m)\u001b[0m\u001b[0;34m]\u001b[0m\u001b[0;34m\u001b[0m\u001b[0;34m\u001b[0m\u001b[0m\n\u001b[0m\u001b[1;32m     16\u001b[0m \u001b[0mm\u001b[0m\u001b[0;34m,\u001b[0m \u001b[0mn\u001b[0m\u001b[0;34m=\u001b[0m\u001b[0ml\u001b[0m\u001b[0;34m[\u001b[0m\u001b[0;36m0\u001b[0m\u001b[0;34m]\u001b[0m\u001b[0;34m,\u001b[0m \u001b[0ml\u001b[0m\u001b[0;34m[\u001b[0m\u001b[0;36m1\u001b[0m\u001b[0;34m]\u001b[0m\u001b[0;34m\u001b[0m\u001b[0;34m\u001b[0m\u001b[0m\n\u001b[1;32m     17\u001b[0m \u001b[0marr\u001b[0m \u001b[0;34m=\u001b[0m \u001b[0;34m[\u001b[0m \u001b[0;34m[\u001b[0m \u001b[0ml\u001b[0m\u001b[0;34m[\u001b[0m\u001b[0;34m(\u001b[0m\u001b[0mj\u001b[0m\u001b[0;34m*\u001b[0m\u001b[0mn\u001b[0m\u001b[0;34m)\u001b[0m\u001b[0;34m+\u001b[0m\u001b[0mi\u001b[0m\u001b[0;34m+\u001b[0m\u001b[0;36m2\u001b[0m\u001b[0;34m]\u001b[0m \u001b[0;32mfor\u001b[0m \u001b[0mi\u001b[0m \u001b[0;32min\u001b[0m \u001b[0mrange\u001b[0m\u001b[0;34m(\u001b[0m\u001b[0mn\u001b[0m\u001b[0;34m)\u001b[0m\u001b[0;34m]\u001b[0m \u001b[0;32mfor\u001b[0m \u001b[0mj\u001b[0m \u001b[0;32min\u001b[0m \u001b[0mrange\u001b[0m\u001b[0;34m(\u001b[0m\u001b[0mm\u001b[0m\u001b[0;34m)\u001b[0m\u001b[0;34m]\u001b[0m\u001b[0;34m\u001b[0m\u001b[0;34m\u001b[0m\u001b[0m\n",
      "\u001b[0;32m~/anaconda3/lib/python3.7/site-packages/ipykernel/kernelbase.py\u001b[0m in \u001b[0;36mraw_input\u001b[0;34m(self, prompt)\u001b[0m\n\u001b[1;32m    858\u001b[0m             \u001b[0mself\u001b[0m\u001b[0;34m.\u001b[0m\u001b[0m_parent_ident\u001b[0m\u001b[0;34m,\u001b[0m\u001b[0;34m\u001b[0m\u001b[0;34m\u001b[0m\u001b[0m\n\u001b[1;32m    859\u001b[0m             \u001b[0mself\u001b[0m\u001b[0;34m.\u001b[0m\u001b[0m_parent_header\u001b[0m\u001b[0;34m,\u001b[0m\u001b[0;34m\u001b[0m\u001b[0;34m\u001b[0m\u001b[0m\n\u001b[0;32m--> 860\u001b[0;31m             \u001b[0mpassword\u001b[0m\u001b[0;34m=\u001b[0m\u001b[0;32mFalse\u001b[0m\u001b[0;34m,\u001b[0m\u001b[0;34m\u001b[0m\u001b[0;34m\u001b[0m\u001b[0m\n\u001b[0m\u001b[1;32m    861\u001b[0m         )\n\u001b[1;32m    862\u001b[0m \u001b[0;34m\u001b[0m\u001b[0m\n",
      "\u001b[0;32m~/anaconda3/lib/python3.7/site-packages/ipykernel/kernelbase.py\u001b[0m in \u001b[0;36m_input_request\u001b[0;34m(self, prompt, ident, parent, password)\u001b[0m\n\u001b[1;32m    888\u001b[0m             \u001b[0;32mexcept\u001b[0m \u001b[0mKeyboardInterrupt\u001b[0m\u001b[0;34m:\u001b[0m\u001b[0;34m\u001b[0m\u001b[0;34m\u001b[0m\u001b[0m\n\u001b[1;32m    889\u001b[0m                 \u001b[0;31m# re-raise KeyboardInterrupt, to truncate traceback\u001b[0m\u001b[0;34m\u001b[0m\u001b[0;34m\u001b[0m\u001b[0;34m\u001b[0m\u001b[0m\n\u001b[0;32m--> 890\u001b[0;31m                 \u001b[0;32mraise\u001b[0m \u001b[0mKeyboardInterrupt\u001b[0m\u001b[0;34m\u001b[0m\u001b[0;34m\u001b[0m\u001b[0m\n\u001b[0m\u001b[1;32m    891\u001b[0m             \u001b[0;32melse\u001b[0m\u001b[0;34m:\u001b[0m\u001b[0;34m\u001b[0m\u001b[0;34m\u001b[0m\u001b[0m\n\u001b[1;32m    892\u001b[0m                 \u001b[0;32mbreak\u001b[0m\u001b[0;34m\u001b[0m\u001b[0;34m\u001b[0m\u001b[0m\n",
      "\u001b[0;31mKeyboardInterrupt\u001b[0m: "
     ]
    }
   ],
   "source": [
    "def wavePrint(arr):\n",
    "    # Please add your code here\n",
    "    m=len(arr)\n",
    "    n=len(arr[0])\n",
    "    for i in range(0,n,1):\n",
    "        if(i%2==0):\n",
    "            for j in range(0,m,1):\n",
    "                print (arr[j][i],end=' ')\n",
    "        else:\n",
    "            for j in range(m-1,-1,-1):\n",
    "                print(arr[j][i],end=' ')\n",
    "    print()\n",
    "\n",
    "#Main\n",
    "l=[int(i) for i in input().strip().split(' ')]\n",
    "m, n=l[0], l[1]\n",
    "arr = [ [ l[(j*n)+i+2] for i in range(n)] for j in range(m)]\n",
    "wavePrint(arr)\n"
   ]
  },
  {
   "cell_type": "markdown",
   "metadata": {},
   "source": [
    "Remove Consecutive Duplicates\n",
    "Send Feedback\n",
    "Given a string, remove all the consecutive duplicates that are present in the given string. That means, if 'aaa' is present in the string then it should become 'a' in the output string.\n",
    "Sample Input:\n",
    "aabccbaa\n",
    "Sample Output:\n",
    "abcba"
   ]
  },
  {
   "cell_type": "code",
   "execution_count": null,
   "metadata": {},
   "outputs": [],
   "source": [
    "def remove_duplicate(n):\n",
    "    if(len(n)<=1):\n",
    "        return n\n",
    "    n2=remove_duplicate(n[1:])\n",
    "    if n[0]==n[1]:\n",
    "        return n2\n",
    "    else:\n",
    "        return n[0]+n2\n",
    "\n",
    "\n",
    "n=input().strip()\n",
    "print(remove_duplicate(n))"
   ]
  },
  {
   "cell_type": "markdown",
   "metadata": {},
   "source": [
    "Reverse Each Word\n",
    "Send Feedback\n",
    "Given a string S, reverse each word of a string individually. For eg. if a string is \"abc def\", reversed string should be \"cba fed\".\n",
    "Input Format :\n",
    "String S\n",
    "Output Format :\n",
    "Updated string\n",
    "Constraints :\n",
    "1 <= Length of S <= 1000\n",
    "Sample Input :\n",
    "Welcome to Coding Ninjas\n",
    "Sample Output:\n",
    "emocleW ot gnidoC sajniN"
   ]
  },
  {
   "cell_type": "code",
   "execution_count": null,
   "metadata": {},
   "outputs": [],
   "source": [
    "def reverse(l):\n",
    "    str = \"\"\n",
    "    for i in l:\n",
    "        str =   i + str\n",
    "    return str\n",
    "\n",
    "\n",
    "s=input()\n",
    "l=s.split(\" \")\n",
    "k=[]\n",
    "for i in l:\n",
    "    k.append(reverse(i))\n",
    "for i in k:\n",
    "    print(i,end=\" \")"
   ]
  },
  {
   "cell_type": "markdown",
   "metadata": {},
   "source": [
    "Highest Occuring Character\n",
    "Send Feedback\n",
    "Given a string, find and return the highest occurring character present in the given string.\n",
    "If there are 2 characters in the input string with same frequency, return the character which comes first.\n",
    "Note : Assume all the characters in the given string are lowercase.\n",
    "Sample Input 1:\n",
    "abdefgbabfba\n",
    "Sample Output 1:\n",
    "b\n",
    "Sample Input 2:\n",
    "xy\n",
    "Sample Output 2:\n",
    "x"
   ]
  },
  {
   "cell_type": "code",
   "execution_count": null,
   "metadata": {},
   "outputs": [],
   "source": [
    "def h_o(n):\n",
    "    if(len(n)<=1):\n",
    "        return n\n",
    "    else:\n",
    "        m=0\n",
    "        for i in range(0,len(n)):\n",
    "            sm=0\n",
    "            for j in range(i+1,len(n)):\n",
    "                if(n[i]==n[j]):\n",
    "                    sm+=1\n",
    "                    p=n[i]\n",
    "                if(sm>m):\n",
    "                    m=sm\n",
    "                    ch=p\n",
    "        return ch\n",
    "\n",
    "\n",
    "n=input().strip()\n",
    "print(h_o(n))"
   ]
  },
  {
   "cell_type": "markdown",
   "metadata": {},
   "source": [
    "Arrange Numbers in Array\n",
    "Send Feedback\n",
    "Given a number n, put all elements from 1 to n in an array in order - 1,3,.......4,2.\n",
    "Input Format :\n",
    " Integer n\n"
   ]
  },
  {
   "cell_type": "code",
   "execution_count": null,
   "metadata": {},
   "outputs": [],
   "source": [
    "def arr(n):\n",
    "    if(n==1):\n",
    "        print(n)\n",
    "\n",
    "    else:\n",
    "        i=1\n",
    "        while i<=n:\n",
    "            print(i,end=\" \")\n",
    "            i+=2\n",
    "        if(i-n==2):\n",
    "            i-=3\n",
    "        else:\n",
    "            i=i-1\n",
    "        while i>=1:\n",
    "            print(i,end=\" \")\n",
    "            i-=2\n",
    "        print()\n",
    "\n",
    "\n",
    "\n",
    "\n",
    "n=int(input())\n",
    "arr(n)"
   ]
  },
  {
   "cell_type": "markdown",
   "metadata": {},
   "source": [
    "Leaders in array\n",
    "Send Feedback\n",
    "Given an integer array A of size n. Find and print all the leaders present in the input array. An array element A[i] is called Leader, if all the elements following it (i.e. present at its right) are less than or equal to A[i].\n",
    "Print all the leader elements separated by space and in the same order they are present in the input array.\n",
    "Input Format :\n",
    "Line 1 : Integer n, size of array\n",
    "Line 2 : Array A elements (separated by space)\n",
    "Output Format :\n",
    " leaders of array (separated by space)\n",
    "Constraints :\n",
    "1 <= n <= 10^6\n",
    "Sample Input 1 :\n",
    "6\n",
    "3 12 34 2 0 -1\n",
    "Sample Output 1 :\n",
    "34 2 0 -1\n",
    "Sample Input 2 :\n",
    "5\n",
    "13 17 5 4 6\n",
    "Sample Output 2 :\n",
    "17 6"
   ]
  },
  {
   "cell_type": "code",
   "execution_count": null,
   "metadata": {},
   "outputs": [],
   "source": [
    "def leader(arr):\n",
    "    for i in range(0,len(arr)):\n",
    "        f=True\n",
    "        for j in range(i+1,len(arr)):\n",
    "            if(arr[i]<arr[j]):\n",
    "                f=False\n",
    "                break\n",
    "        if(f):\n",
    "            print(arr[i],end=\" \")\n",
    "\n",
    "\n",
    "n=int(input())\n",
    "l=[int(s) for s in input().split()]\n",
    "leader(l)"
   ]
  },
  {
   "cell_type": "markdown",
   "metadata": {},
   "source": [
    "Maximise the sum\n",
    "Send Feedback\n",
    "Given 2 sorted arrays (in increasing order), find a path through the intersections that produces maximum sum and return the maximum sum.\n",
    "That is, we can switch from one array to another array only at common elements.\n",
    "If no intersection element is present, we need to take sum of all elements from the array with greater sum.\n",
    "Input Format :\n",
    " Line 1 : An integer M i.e. size of first array\n",
    " Line 2 : M integers which are elements of first array, separated by spaces\n",
    " Line 3 : An integer N i.e. size of second array\n",
    " Line 4 : N integers which are elements of second array, separated by spaces\n",
    "Output Format :\n",
    "Maximum sum value\n",
    "Constraints :\n",
    "1 <= M, N <= 10^6\n",
    "Sample Input :\n",
    "6\n",
    "1 5 10 15 20 25\n",
    "5\n",
    "2 4 5 9 15\n",
    "Sample Output :\n",
    "81\n",
    "Sample Output Explanation :\n",
    "We start from array 2 and take sum till 5 (sum = 11). Then we'll switch to array at element 10 and take till 15. So sum = 36. Now, no elements left in array after 15, so we'll continue in array 1. Hence sum is 81"
   ]
  },
  {
   "cell_type": "code",
   "execution_count": null,
   "metadata": {},
   "outputs": [],
   "source": [
    "def maxsum(l1,l2):\n",
    "    i,j=0,0\n",
    "    f=True\n",
    "    sum1,sum2,maxi=0,0,0\n",
    "    \n",
    "    while i<len(l1) and j<len(l2):\n",
    "            while i<len(l1) and j<len(l2) and l1[i]>l2[j]:\n",
    "                sum2+=l2[j]\n",
    "                \n",
    "                j+=1\n",
    "            while i<len(l1) and j<len(l2) and l1[i]<l2[j]:\n",
    "                sum1+=l1[i]\n",
    "                i+=1\n",
    "            while i<len(l1) and j<len(l2) and l1[i]==l2[j]:\n",
    "                maxi+=max(sum1,sum2)+l1[i]\n",
    "                sum1,sum2=0,0\n",
    "                i+=1\n",
    "                j+=1\n",
    "                f=False\n",
    "    else:\n",
    "        if f==False and i>=len(l1) and j<len(l2):\n",
    "            \n",
    "            while j<len(l2):\n",
    "                \n",
    "                sum2+=l2[j]\n",
    "                j+=1\n",
    "            #maxi+=sum2\n",
    "        elif f==False and j>=len(l2) and i<len(l1):\n",
    "            while i<len(l1):\n",
    "                sum1+=l1[i]\n",
    "                i+=1\n",
    "            #maxi+=sum1\n",
    "        maxi+=max(sum1,sum2)\n",
    "    if (f)  :\n",
    "        if i>=len(l1) and j>=len(l2):\n",
    "            maxi=max(sum1,sum2)\n",
    "        else:\n",
    "            if(i>=len(l1) and j<len(l2)):\n",
    "                while j<len(l2):\n",
    "                    sum2+=l2[j]\n",
    "                    j+=1\n",
    "            elif(j>=len(l2) and i<len(l1)):\n",
    "                while i<len(l1):\n",
    "                    sum1+=l1[i]\n",
    "                    i+=1\n",
    "            maxi=max(sum1,sum2)\n",
    "                \n",
    "        \n",
    "    return maxi\n",
    "\n",
    "\n",
    "n=int(input())\n",
    "l=[int(s) for s in input().split()]\n",
    "m=int(input())\n",
    "l1=[int(s) for s in input().split()]\n",
    "print(maxsum(l,l1))"
   ]
  },
  {
   "cell_type": "markdown",
   "metadata": {},
   "source": [
    "Largest Row or Column\n",
    "Send Feedback\n",
    "Given an NxM 2D array, you need to find out which row or column has largest sum (sum of its elements) overall amongst all rows and columns.\n",
    "Input Format :\n",
    " Line 1 : 2 integers N and M respectively, separated by space \n",
    " Line 2: Single line having N*M elements entered in row wise manner, each separated by space.\n",
    "Output Format :\n",
    " If row sum is maximum then - \"row\" row_num max_sum\n",
    " If column sum is maximum then - \"column\" col_num max_sum\n",
    "Note : If there are more than one rows/columns with maximum sum consider the row/column that comes first. And if ith row and jth column has same sum (which is largest), consider the ith row as answer.\n",
    "Sample Input 1 :\n",
    "2 2 \n",
    "1 1 1 1\n",
    "Sample Output 1 :\n",
    "row 0 2\n",
    "Sample Input 2 :\n",
    "3 3\n",
    "3 6 9 1 4 7 2 8 9\n",
    "Sample Output 2 :\n",
    "column 2 25"
   ]
  },
  {
   "cell_type": "code",
   "execution_count": null,
   "metadata": {},
   "outputs": [],
   "source": [
    "def largestRowCol(arr):\n",
    "    # Please add your code here\n",
    "    r=len(arr)\n",
    "    c=len(arr[0])\n",
    "    sr=[0]* r\n",
    "    sc=[0]* c\n",
    "    for i in range(r):\n",
    "        for j in range(c):\n",
    "            sr[i]+=arr[i][j]\n",
    "            sc[j]+=arr[i][j]\n",
    "        l=['row',0,sr[0]]\n",
    "        for i in range(r):\n",
    "            if sr[i]>l[2]:\n",
    "                l[2]=sr[i]\n",
    "                l[1]=i\n",
    "        for j in range(c):\n",
    "            if sc[j]>l[2]:\n",
    "                l[2]=sc[j]\n",
    "                l[1]=j\n",
    "                l[0]='column'\n",
    "    return l\n",
    "\n",
    "#Main\n",
    "m, n=(int(i) for i in input().strip().split(' '))\n",
    "l=[int(i) for i in input().strip().split(' ')]\n",
    "arr = [ [ l[(j*n)+i] for i in range(n)] for j in range(m)]\n",
    "l=largestRowCol(arr)\n",
    "print(*l)\n"
   ]
  },
  {
   "cell_type": "markdown",
   "metadata": {},
   "source": [
    "Print spiral\n",
    "Send Feedback\n",
    "Given an N*M 2D array, print it in spiral form. That is, first you need to print the 1st row, then last column, then last row and then first column and so on.\n",
    "Print every element only once.\n",
    "Input format :\n",
    "Line 1 : N and M, No. of rows & No. of columns (separated by space) followed by N*M  elements in row wise fashion.\n",
    "Sample Input :\n",
    " 4 4 1 2 3 4 5 6 7 8 9 10 11 12 13 14 15 16\n",
    "Sample Output :\n",
    "1 2 3 4 8 12 16 15 14 13 9 5 6 7 11 10 "
   ]
  },
  {
   "cell_type": "code",
   "execution_count": null,
   "metadata": {},
   "outputs": [],
   "source": [
    "def spiralPrint(arr):\n",
    "    # Please add your code here\n",
    "    r=len(arr)\n",
    "    c=len(arr[0])\n",
    "    sr,sc,er,ec=0,0,r-1,c-1\n",
    "    while sr<=er and sc<=ec:\n",
    "        for j in range(sc,ec+1):\n",
    "            print(arr[sr][j],end=' ')\n",
    "        sr+=1\n",
    "        if sr>er or sc>ec:\n",
    "            break\n",
    "        for i in range(sr,er+1):\n",
    "            print(arr[i][ec],end=' ')\n",
    "        ec-=1\n",
    "        if sr>er or sc>ec:\n",
    "            break\n",
    "        for j in range(ec,sc-1,-1):\n",
    "            print(arr[er][j],end=' ')\n",
    "        er-=1\n",
    "        if(sr>er or sc>ec):\n",
    "            break\n",
    "        for i in range(er,sr-1,-1):\n",
    "            print(arr[i][sc],end=\" \")\n",
    "        sc+=1\n",
    "\n",
    "#Main\n",
    "l=[int(i) for i in input().strip().split(' ')]\n",
    "m, n=l[0], l[1]\n",
    "arr = [ [ l[(j*n)+i+2] for i in range(n)] for j in range(m)]\n",
    "spiralPrint(arr)\n"
   ]
  }
 ],
 "metadata": {
  "kernelspec": {
   "display_name": "Python 3",
   "language": "python",
   "name": "python3"
  },
  "language_info": {
   "codemirror_mode": {
    "name": "ipython",
    "version": 3
   },
   "file_extension": ".py",
   "mimetype": "text/x-python",
   "name": "python",
   "nbconvert_exporter": "python",
   "pygments_lexer": "ipython3",
   "version": "3.7.3"
  }
 },
 "nbformat": 4,
 "nbformat_minor": 2
}
