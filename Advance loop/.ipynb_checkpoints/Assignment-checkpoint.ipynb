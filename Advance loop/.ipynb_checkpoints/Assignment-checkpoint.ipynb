{
 "cells": [
  {
   "cell_type": "markdown",
   "metadata": {},
   "source": [
    "Terms of AP\n",
    "Send Feedback\n",
    "Write a program to print first x terms of the series 3N + 2 which are not multiples of 4.\n",
    "N varies from 1 to 1000.\n",
    "Input format :\n",
    "Integer x\n",
    "Output format :\n",
    "Terms of series (separated by space)\n",
    "Sample Input 1 :\n",
    "10\n",
    "Sample Output 1 :\n",
    "5 11 14 17 23 26 29 35 38 41\n",
    "Sample Input 2 :\n",
    "4\n",
    "Sample Output 2 :\n",
    "5 11 14 17"
   ]
  },
  {
   "cell_type": "code",
   "execution_count": 1,
   "metadata": {},
   "outputs": [
    {
     "name": "stdout",
     "output_type": "stream",
     "text": [
      "10\n",
      "5 11 14 17 23 26 29 35 38 41 "
     ]
    }
   ],
   "source": [
    "n=int(input())\n",
    "i=1\n",
    "p=1\n",
    "while p<=n:\n",
    "  if(((3*i)+2)%4==0):\n",
    "    i=i+1\n",
    "  else:\n",
    "    print((3*i)+2,end=\" \")\n",
    "    i=i+1\n",
    "    p+=1\n",
    "          "
   ]
  },
  {
   "cell_type": "markdown",
   "metadata": {},
   "source": [
    "Sum or product\n",
    "Send Feedback\n",
    "Write a program that asks the user for a number N and a choice C. And then give him the possibility to choose between computing the sum and computing the product of 1 ,..., N.\n",
    "If user enters C is equal to -\n",
    " 1 : Print sum of 1 to N numbers\n",
    " 2 : Print product of 1 to N numbers\n",
    " Any other number : print -1\n",
    "Input format :\n",
    "Line 1 : Integer N\n",
    "Line 2 : Choice C (1 or 2)\n",
    "Output Format :\n",
    " Sum or product according to user's choice\n",
    "Sample Input 1 :\n",
    "10\n",
    "1\n",
    "Sample Output 1 :\n",
    "55\n",
    "Sample Input 2 :\n",
    "10\n",
    "2\n",
    "Sample Output 2 :\n",
    "3628800\n",
    "Sample Input 3 :\n",
    "10\n",
    "4\n",
    "Sample Output 3 :\n",
    "-1"
   ]
  },
  {
   "cell_type": "code",
   "execution_count": 4,
   "metadata": {},
   "outputs": [
    {
     "name": "stdout",
     "output_type": "stream",
     "text": [
      "10\n",
      "2\n",
      "3628800\n"
     ]
    }
   ],
   "source": [
    "n= int(input())\n",
    "n1=int(input())\n",
    "sum=0\n",
    "product=1\n",
    "\n",
    "if(n1==1):\n",
    "    for i in range(1,n+1):\n",
    "        sum+=i\n",
    "    print(sum)\n",
    "elif(n1==2):\n",
    "    for i in range(1,n+1):\n",
    "        product*=i\n",
    "    print(product)\n",
    "else:\n",
    "    print(\"-1\")\n"
   ]
  },
  {
   "cell_type": "markdown",
   "metadata": {},
   "source": [
    "Square root (Integral)\n",
    "Send Feedback\n",
    "Given a number N, find its square root. You need to find and print only the integral part of square root of N.\n",
    "For eg. if number given is 18, answer is 4.\n",
    "Input format :\n",
    "Integer N\n",
    "Output Format :\n",
    "Square root of N (integer part only)\n",
    "Sample Input 1 :\n",
    "10\n",
    "Sample Output 1 :\n",
    "3\n",
    "Sample Input 2 :\n",
    "4\n",
    "Sample Output 2 :\n",
    "2"
   ]
  },
  {
   "cell_type": "code",
   "execution_count": 5,
   "metadata": {},
   "outputs": [
    {
     "name": "stdout",
     "output_type": "stream",
     "text": [
      "10\n",
      "3\n"
     ]
    }
   ],
   "source": [
    "import math as m\n",
    "\n",
    "def squareRoot(n):\n",
    "    p=int(m.sqrt(n))\n",
    "    return p\n",
    "#Implement Your Code Here\n",
    "\t\t\n",
    "\t\n",
    "n=int(input())\n",
    "ans = squareRoot(n)\n",
    "print(ans)\n"
   ]
  },
  {
   "cell_type": "markdown",
   "metadata": {},
   "source": [
    "Decimal to Binary\n",
    "Send Feedback\n",
    "Given a decimal number (integer N), convert it into binary and print.\n",
    "The binary number should be in the form of an integer.\n",
    "Note : The given input number could be large, so the corresponding binary number can exceed the integer range. So take the answer as long.\n",
    "Input format :\n",
    "Integer N\n",
    "Output format :\n",
    "Corresponding Binary number (long)\n",
    "Sample Input 1 :\n",
    "12\n",
    "Sample Output 1 :\n",
    "1100\n",
    "Sample Input 2 :\n",
    "7\n",
    "Sample Output 2 :\n",
    "111"
   ]
  },
  {
   "cell_type": "code",
   "execution_count": 6,
   "metadata": {},
   "outputs": [
    {
     "name": "stdout",
     "output_type": "stream",
     "text": [
      "12\n",
      "1100\n"
     ]
    }
   ],
   "source": [
    "n=int(input())\n",
    "r=0\n",
    "i=1\n",
    "while(n):\n",
    "  if (n%2):\n",
    "    r +=i\n",
    "  n //=2\n",
    "  i *=10\n",
    "print(r)"
   ]
  },
  {
   "cell_type": "markdown",
   "metadata": {},
   "source": [
    "Binary to decimal\n",
    "Send Feedback\n",
    "Given a binary number as an integer N, convert it into decimal and print.\n",
    "Input format :\n",
    "An integer N\n",
    "Output format :\n",
    "Corresponding Decimal number (as integer)\n",
    "Sample Input 1 :\n",
    "1100\n",
    "Sample Output 1 :\n",
    "12\n",
    "Sample Input 2 :\n",
    "111\n",
    "Sample Output 2 :\n",
    "7"
   ]
  },
  {
   "cell_type": "code",
   "execution_count": 7,
   "metadata": {},
   "outputs": [
    {
     "name": "stdout",
     "output_type": "stream",
     "text": [
      "111\n",
      "7\n"
     ]
    }
   ],
   "source": [
    "r=0\n",
    "i=1\n",
    "n=int(input())\n",
    "while(n):\n",
    "  if(n%10):\n",
    "    r += i\n",
    "  n = int(n/10)\n",
    "  i *= 2\n",
    "print(r)"
   ]
  },
  {
   "cell_type": "markdown",
   "metadata": {},
   "source": [
    "Even Fibonacci Numbers\n",
    "Send Feedback\n",
    "Given a number N find the sum of all the even valued terms in the fibonacci sequence less than or equal to N. Try generating only even fibonacci numbers instead of iterating over all Fibonacci numbers.\n",
    "Input Format\n",
    "Line 1 : An integer N\n",
    "Output Format\n",
    "Total Sum\n",
    "Input Constraints\n",
    "1 <= N <= 10^6\n",
    "Sample Input 1:\n",
    "8\n",
    "Sample Output 1 :\n",
    "10\n",
    "Sample Input 2:\n",
    "400\n",
    "Sample Output 2:\n",
    "188"
   ]
  },
  {
   "cell_type": "code",
   "execution_count": 8,
   "metadata": {},
   "outputs": [
    {
     "name": "stdout",
     "output_type": "stream",
     "text": [
      "400\n",
      "188\n"
     ]
    }
   ],
   "source": [
    "n=int(input())\n",
    "f=1\n",
    "s=1\n",
    "nn=0\n",
    "st=0\n",
    "while((f+s)<=n):\n",
    "  if((f+s)%2==0):\n",
    "    st+=f+s\n",
    "  p=s\n",
    "  s=f+s\n",
    "  f=p\n",
    "print(st)"
   ]
  },
  {
   "cell_type": "markdown",
   "metadata": {},
   "source": [
    "Trailing zeroes in n!\n",
    "Send Feedback\n",
    "Find and return number of trailing 0s in n factorial without calculating n factorial.\n",
    "Sample Input\n",
    "50\n",
    "Sample Output\n",
    "12\n",
    "Input Size Limit\n",
    "n < 10^11"
   ]
  },
  {
   "cell_type": "code",
   "execution_count": 10,
   "metadata": {},
   "outputs": [
    {
     "name": "stdout",
     "output_type": "stream",
     "text": [
      "50\n",
      "12\n"
     ]
    }
   ],
   "source": [
    "import math as m\n",
    "n=int(input())\n",
    "i=5\n",
    "c=0\n",
    "while(n/i>=1):\n",
    "  c += int(n/i)\n",
    "  i *= 5\n",
    "print(int(c))\n"
   ]
  },
  {
   "cell_type": "code",
   "execution_count": null,
   "metadata": {},
   "outputs": [],
   "source": []
  }
 ],
 "metadata": {
  "kernelspec": {
   "display_name": "Python 3",
   "language": "python",
   "name": "python3"
  },
  "language_info": {
   "codemirror_mode": {
    "name": "ipython",
    "version": 3
   },
   "file_extension": ".py",
   "mimetype": "text/x-python",
   "name": "python",
   "nbconvert_exporter": "python",
   "pygments_lexer": "ipython3",
   "version": "3.7.3"
  }
 },
 "nbformat": 4,
 "nbformat_minor": 2
}
